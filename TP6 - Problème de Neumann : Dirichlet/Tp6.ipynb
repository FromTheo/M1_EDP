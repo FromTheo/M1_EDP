{
 "cells": [
  {
   "cell_type": "markdown",
   "id": "b98fa0cb",
   "metadata": {},
   "source": [
    "# TP6 : Problème de Neumann/Dirichlet"
   ]
  },
  {
   "cell_type": "code",
   "execution_count": 165,
   "id": "54a30833",
   "metadata": {},
   "outputs": [],
   "source": [
    "import numpy as np \n",
    "import matplotlib.pyplot as plt\n",
    "import matplotlib.tri as mtri\n",
    "from numpy import linalg as LA \n",
    "import scipy\n",
    "import scipy.linalg\n",
    "from scipy.linalg import toeplitz \n",
    "from scipy.sparse import csr_matrix \n",
    "from scipy.sparse.linalg import spsolve"
   ]
  },
  {
   "cell_type": "markdown",
   "id": "e730855e",
   "metadata": {},
   "source": [
    "## Previous functions "
   ]
  },
  {
   "cell_type": "code",
   "execution_count": 194,
   "id": "9becd334",
   "metadata": {},
   "outputs": [],
   "source": [
    "def LoadVTX(nom_du_fichier):\n",
    "    f=open(nom_du_fichier,'r')\n",
    "    f.readline() #on lit $Noeuds, que l'on ignore \n",
    "    nbr_vtx=int(f.readline()) #on converti en int la valeur lue par f : c'est le nombre de noeuds \n",
    "    resultat=[] # crée une liste vide permettant de stocker les coordonnées des noeuds \n",
    "    for i in range(nbr_vtx)  : \n",
    "        ligne=f.readline()\n",
    "        tableau=ligne.split()\n",
    "        couple=[]\n",
    "        couple.append(float(tableau[1])) #conversion en float car on lit des str \n",
    "        couple.append(float(tableau[2]))\n",
    "        resultat.append(couple)\n",
    "    f.close()\n",
    "    return resultat\n",
    "\n",
    "def LoadELT(nom_du_fichier) :\n",
    "    f=open(nom_du_fichier,'r')\n",
    "    f.readline()\n",
    "    nbr_vtx=int(f.readline())\n",
    "    for i in range (nbr_vtx+2) : \n",
    "        f.readline()\n",
    "    nbr_elt=int(f.readline())\n",
    "    resultat=[]\n",
    "    for i in range(nbr_elt) : \n",
    "        ligne=f.readline()\n",
    "        tableau=ligne.split()\n",
    "        triangle=[]\n",
    "        triangle.append(int(tableau[1])) #conversion en float car on lit des str \n",
    "        triangle.append(int(tableau[2]))\n",
    "        triangle.append(int(tableau[3]))\n",
    "        resultat.append(triangle)\n",
    "    f.close()\n",
    "    return resultat\n",
    "\n",
    "\n",
    "def Boundary(elt):\n",
    "    D = {} #Dictionnaire vide visant à contenir les arêtes sur le bord ainsi la table de correspondance \n",
    "    Nc = len(elt) #Nombre de cellules \n",
    "\n",
    "    for i in range(Nc):\n",
    "        \n",
    "        s0 = int(elt[i][0]) \n",
    "        s1 = int(elt[i][1])  \n",
    "        s2 = int(elt[i][2]) \n",
    "        \n",
    "        b0=(s0,s1) #arête n°2\n",
    "        b1=(s1,s2) #arête n°0\n",
    "        b2=(s2,s0) #arête n°1 \n",
    "        L = (b0,b1,b2) #Liste contenant les 3 arêtes du i-ème triangle \n",
    "    \n",
    "\n",
    "        for k,b in zip([2,0,1], L):\n",
    "            if b not in D.keys(): #Si l'arête b n'est pas dans D on l'ajoute avec la clée suivante. \n",
    "                D[b] = 3*i+k\n",
    "            else : #Si b est déjà dans D, elle apparait plusieurs fois donc n'est pas dans le bord. \n",
    "                D.pop(b)\n",
    "            if b[::-1] in D.keys(): #Si l'inverse de b est dans D, on enlève b et son inverse. \n",
    "                D.pop(b[::-1])\n",
    "                D.pop(b)\n",
    "        \n",
    "    \n",
    "    eltb = list(D.keys())\n",
    "    be2e = list(D.values())\n",
    "    #Conversion des list en tableaux numpy \n",
    "    eltb = np.array(eltb)\n",
    "    be2e = np.array(be2e)\n",
    "        \n",
    "    #return eltb,be2e \n",
    "    return eltb #Ici seul eltb nous interesse.\n",
    "\n",
    "\n",
    "def PlotMesh(vtx,elt) : \n",
    "    X = [vtx[i][0] for i in range(len(vtx))]\n",
    "    Y = [vtx[j][1] for j in range(len(vtx))]\n",
    "    plt.triplot(X,Y,elt)\n",
    "    nb_elements = len(elt)\n",
    "    plt.title(fr\"Maillage à ${nb_elements}$ éléments.\")\n",
    "    #plt.axis('equal')\n",
    "\n",
    "def PlotMeshBoundary(vtx, eltb) : \n",
    "    \n",
    "    for e in eltb : #on boucle sur toutes les arêtes dans le bord \n",
    "        P1=e[0] #premier sommet de l'arête \n",
    "        P2=e[1] #second sommet de l'arête \n",
    "        x1=vtx[P1][0] #on extrait la première coordonnée du premier sommet de l'arête \n",
    "        y1=vtx[P1][1] #on extrait la seconde coordonnée du premier sommet de l'arête \n",
    "        x2=vtx[P2][0]\n",
    "        y2=vtx[P2][1]\n",
    "        plt.plot([x1,x2],[y1,y2])\n",
    "    plt.title(\"Maillage avec PlotMeshBoundary\")    \n",
    "    plt.show() \n",
    "    \n",
    "\n",
    "def PlotMesh_surcharged(vtx, elt, val = None):\n",
    "    if val is None:\n",
    "        val = np.zeros(len(vtx))\n",
    "    \n",
    "    X = [vtx[i][0] for i in range(len(vtx))]\n",
    "    Y = [vtx[j][1] for j in range(len(vtx))]\n",
    "    plt.tripcolor(X, Y, val, triangles=elt)\n",
    "    nb_elements = len(elt)\n",
    "    plt.title(fr\"Maillage à {nb_elements} éléments.\")\n",
    "    #plt.axis('equal')\n",
    "    plt.colorbar(label='Valeur')\n",
    "    plt.show()"
   ]
  },
  {
   "cell_type": "markdown",
   "id": "140e20ad",
   "metadata": {},
   "source": [
    "## Exercice 1 "
   ]
  },
  {
   "cell_type": "code",
   "execution_count": 195,
   "id": "5bb70f8a",
   "metadata": {},
   "outputs": [],
   "source": [
    "def GenerateRectangleMesh(Lx, Ly, Nx, Ny):\n",
    "    vtx = [] #Liste vide visant à contenir les sommets du maillage.\n",
    "    elt = [] #Liste vide visant à contenir les cellules du maillage. \n",
    "    Nv = (Nx+1) * (Ny+1) #Cas particulier des maillages sur un rectangle \n",
    "    \n",
    "    hx = Lx/Nx #Pas de la subdivision sur l'axe des abscisses. \n",
    "    hy = Ly/Ny #Pas de la subdivision sur l'axe des ordonnées. \n",
    "    x = 0. \n",
    "    y = 0.\n",
    "    noeuds = 0\n",
    "    kx = 0\n",
    "    while noeuds < Nv:\n",
    "        vtx.append([x,y])\n",
    "        \n",
    "        if kx==Nx:\n",
    "            x=0.\n",
    "            kx=0\n",
    "            y+=hy\n",
    "            \n",
    "        else:\n",
    "            x+=hx\n",
    "            kx+=1\n",
    "            \n",
    "        noeuds+=1\n",
    "\n",
    "    for j in range(Ny):\n",
    "        for i in range(Nx):\n",
    "            s0 = j*(Nx+1) + i\n",
    "            s1 = j*(Nx+1) + i+1\n",
    "            s2 = (j+1) * (Nx+1) + i+1\n",
    "            elt.append( [ s0, s1, s2 ] ) #Triangle inférieur (en dessous de la diagonale).\n",
    "\n",
    "            s0 = j*(Nx+1) + i \n",
    "            s1 = (j+1) * (Nx+1) + i+1 \n",
    "            s2 = (j+1) * (Nx+1) + i\n",
    "            elt.append( [ s0, s1, s2] ) #Triangle supérieur.\n",
    "            \n",
    "    return vtx,elt"
   ]
  },
  {
   "cell_type": "code",
   "execution_count": 196,
   "id": "7ca987b5",
   "metadata": {},
   "outputs": [],
   "source": [
    "vtx, elt = GenerateRectangleMesh(2*np.pi, np.pi, 10,10)"
   ]
  },
  {
   "cell_type": "markdown",
   "id": "269579f3",
   "metadata": {},
   "source": [
    "> **Question 1:**"
   ]
  },
  {
   "cell_type": "code",
   "execution_count": 300,
   "id": "ef804568",
   "metadata": {},
   "outputs": [
    {
     "name": "stdout",
     "output_type": "stream",
     "text": [
      "[[ 0. -1.]\n",
      " [-1. -0.]\n",
      " [ 0. -1.]\n",
      " [ 0. -1.]\n",
      " [ 1. -0.]\n",
      " [ 0.  1.]\n",
      " [-1. -0.]\n",
      " [ 0.  1.]\n",
      " [ 1. -0.]\n",
      " [ 0.  1.]]\n"
     ]
    }
   ],
   "source": [
    "def Normal(vtx, belt):\n",
    "    vtx = np.array(vtx)\n",
    "    nb_belt = len(belt)\n",
    "    nrm = np.zeros((nb_belt, 2))\n",
    "    for i in range(nb_belt):\n",
    "        v = vtx[belt[i][1]] - vtx[belt[i][0]]\n",
    "        nrm[i] = np.array([v[1], -v[0]])\n",
    "    return nrm\n",
    "\n",
    "vtx = LoadVTX(\"maillage1.msh\")\n",
    "elt = LoadELT(\"maillage1.msh\")\n",
    "\n",
    "belt = Boundary(elt)\n",
    "print(Normal(vtx,belt))"
   ]
  },
  {
   "cell_type": "markdown",
   "id": "5f4733ac",
   "metadata": {},
   "source": [
    "> **Question 2.**"
   ]
  },
  {
   "cell_type": "code",
   "execution_count": 301,
   "id": "f67d8c03",
   "metadata": {},
   "outputs": [
    {
     "data": {
      "image/png": "[encoded data removed]",
      "text/plain": [
       "<Figure size 640x480 with 1 Axes>"
      ]
     },
     "metadata": {},
     "output_type": "display_data"
    }
   ],
   "source": [
    "n = Normal(vtx,belt)\n",
    "nb_bord = len(belt)\n",
    "\n",
    "for k in range (nb_bord) : \n",
    "    a = vtx[belt[k][0]]\n",
    "    b = vtx[belt[k][1]]\n",
    "    v = [(a[i] + b[i]) / 2 for i in range(len(a))]  # milieu\n",
    "    plt.quiver(v[0],v[1], n[k,0], n[k,1])\n",
    "PlotMeshBoundary(vtx,belt)"
   ]
  },
  {
   "cell_type": "markdown",
   "id": "2ec68fe7",
   "metadata": {},
   "source": [
    "## Exercice 3"
   ]
  },
  {
   "cell_type": "markdown",
   "id": "2bcb8a2d",
   "metadata": {},
   "source": [
    "> **Question 1.**"
   ]
  },
  {
   "cell_type": "code",
   "execution_count": 334,
   "id": "5de9d4ec",
   "metadata": {},
   "outputs": [],
   "source": [
    "def f(x,y) : \n",
    "    return np.sin(x)*np.sin(y)\n",
    "\n",
    "mu = 2\n",
    "Nx = Ny = 10\n",
    "Lx = 2*np.pi\n",
    "Ly = np.pi"
   ]
  },
  {
   "cell_type": "markdown",
   "id": "58af5c6f",
   "metadata": {},
   "source": [
    "Par définition : \n",
    "$$ \\Delta f = \\dfrac{\\partial^2f}{\\partial x^2} + \\dfrac{\\partial^2f}{\\partial y^2}.$$\n",
    "Ainsi il est facile de remarquer que $\\Delta f = -2\\sin(x)\\sin(y) = -2f$.\n",
    "\n",
    "Remarquons également que $f_{|\\partial \\Omega} = 0. $\n",
    "Soit $u = c\\times f$, où $ c\\in \\mathbb{C}$. Alors $$-\\Delta u + \\mu^2 u = f $$\n",
    "$$\\Leftrightarrow 2cf+\\mu^2cf = f$$\n",
    "$$\\Leftrightarrow c = \\dfrac{1}{1+\\mu^2}$$\n",
    "Il vient alors que $u_{ex}^D(x,y) = \\dfrac{1}{1+\\mu^2}f(x,y)$. "
   ]
  },
  {
   "cell_type": "code",
   "execution_count": 335,
   "id": "ef041f47",
   "metadata": {},
   "outputs": [],
   "source": [
    "def u(x,y) :\n",
    "    return 1/(1+mu**2)*f(x,y)"
   ]
  },
  {
   "cell_type": "markdown",
   "id": "7008a1c6",
   "metadata": {},
   "source": [
    "> **Question 2.** Résolution par éléments finis $\\mathbb{P}_1-$Lagrange. "
   ]
  },
  {
   "cell_type": "markdown",
   "id": "f8a08813",
   "metadata": {},
   "source": [
    "En tenant compte de la condition au bord de Dirichlet homogène, on choisit comme espace \n",
    "variationnel $H_0^1(\\Omega) := \\text{ker}(\\tau_{\\partial \\Omega})$.\n",
    "Dans l'écriture de $(BVM)$ on suppose tacitement que $\\nabla u \\in H(\\text{div},\\Omega)$.\n",
    "Autrement dit, on impose plus que simplement $u \\in H^1(\\Omega)$. En réalité $u \\in H^1(\\Omega)\\cap H^1(\\Delta,\\Omega)$.\n",
    "\n",
    "En multipliant l'EDP du volume de $\\Omega$ par $v \\in H_0^1(\\Omega)$ puis en intégrant : \n",
    "\n",
    "$$ \\int_{\\Omega} -\\bar{v}\\Delta u + \\mu^2u\\bar{v}\\,dx = \\int_{\\Omega} f\\bar{v} \\, dx$$\n",
    "\n",
    "En utilisant la formule de Green (dont l'utilisation est permise car $\\nabla u \\in H(\\text{div},\\Omega)$) et en tenant compte de la nullité sur le bord, on a :  \n",
    "\n",
    "$$\\int_{\\Omega} \\nabla \\bar{v}^t \\nabla u + \\mu^2u\\bar{v} \\,dx = \\int_{\\Omega} f\\bar{v} \\, dx$$\n",
    "\n",
    "$$\\Longleftrightarrow a(u,v)=l(v)$$\n",
    "\n",
    "On obtient alors la formulation variationelle suivante : \n",
    "\n",
    "$$(VF) : \\left\\{\n",
    "    \\begin{array}{l}\n",
    "        \\text{Trouver } u \\in H^1_0(\\Omega) \\text{ tel que :} \\\\\n",
    "        a(u,v) = l(v) \\quad \\forall v \\in H^1_0(\\Omega)\n",
    "    \\end{array}\n",
    "\\right.\n",
    "$$"
   ]
  },
  {
   "cell_type": "markdown",
   "id": "cb14cd66",
   "metadata": {},
   "source": [
    "**Construction du membre de gauche + assemblage :**"
   ]
  },
  {
   "cell_type": "code",
   "execution_count": 336,
   "id": "b9f6e6ba",
   "metadata": {},
   "outputs": [],
   "source": [
    "def Mloc(vtx, e) : \n",
    "    if(len(e)==3) : \n",
    "        mat=toeplitz(np.array([2,1,1]))/12\n",
    "        #L'aire du triangle ABC est par définition la norme du produit vectoriel AB v AC \n",
    "        \"\"\" \n",
    "        Écrire ici : \n",
    "        T=LA.norm(np.cross(vtx[e[0]] - vtx[e[1]], vtx[e[1]] - vtx[e[2]]))/2\n",
    "        L'opérateur - n'étant pas défini pour les list \n",
    "        On doit convertir les list en tableau numpy pour les soustraire \n",
    "        \"\"\"\n",
    "        T=LA.norm(np.cross(np.array(vtx[e[0]]) - np.array(vtx[e[1]]), np.array(vtx[e[1]]) - np.array(vtx[e[2]])))/2 # par défaut la norme 2\n",
    "        #print (T)\n",
    "    \n",
    "        return T*mat\n",
    "\n",
    "def Mass(vtx, elt) :\n",
    "    \n",
    "    vtx = np.array(vtx)\n",
    "    elt = np.array(elt)\n",
    "    \n",
    "    Nv=len(vtx) #Nombre de sommets.\n",
    "    \n",
    "    Nc=len(elt) #Nombre de cellules.\n",
    "    d=len(elt[0]) \n",
    "    \n",
    "    #print (\"Nv={}\".format(Nv))\n",
    "    #print(\"Nc={}\".format(Nc))\n",
    "    #print(\"d={}\".format(d))\n",
    "    \n",
    "    I = np.zeros(d*d*Nc)\n",
    "    J = np.zeros(d*d*Nc)\n",
    "    V = np.zeros(d*d*Nc)\n",
    "    \n",
    "    k=0 \n",
    "    \n",
    "    for q in range(Nc):\n",
    "        Ml = Mloc(vtx, elt[q])\n",
    "        for l in range(d):\n",
    "            for m in range(d):\n",
    "                I[k] = elt[q,l]\n",
    "                J[k] = elt[q,m]\n",
    "                V[k] = Ml[l,m]\n",
    "                k+=1\n",
    "    return csr_matrix( (V, (I,J) ) , shape=(Nv,Nv) )"
   ]
  },
  {
   "cell_type": "code",
   "execution_count": 337,
   "id": "4d7ccf92",
   "metadata": {},
   "outputs": [
    {
     "name": "stdout",
     "output_type": "stream",
     "text": [
      "[[0.03289868 0.00822467 0.         ... 0.         0.         0.        ]\n",
      " [0.00822467 0.04934802 0.00822467 ... 0.         0.         0.        ]\n",
      " [0.         0.00822467 0.04934802 ... 0.         0.         0.        ]\n",
      " ...\n",
      " [0.         0.         0.         ... 0.04934802 0.00822467 0.        ]\n",
      " [0.         0.         0.         ... 0.00822467 0.04934802 0.00822467]\n",
      " [0.         0.         0.         ... 0.         0.00822467 0.03289868]]\n",
      "Volume du domaine :  19.739208802178716\n",
      "Test sur la masse :  19.739208802178705\n"
     ]
    }
   ],
   "source": [
    "print(Mass(vtx,elt).toarray())\n",
    "U = np.ones(len(vtx))\n",
    "print(\"Volume du domaine : \", 2*np.pi**2)\n",
    "print(\"Test sur la masse : \",U@Mass(vtx,elt)@U)"
   ]
  },
  {
   "cell_type": "code",
   "execution_count": 338,
   "id": "36fd9696",
   "metadata": {},
   "outputs": [],
   "source": [
    "def Kloc(vtx,e) : \n",
    "    vtx = np.array(vtx)\n",
    "    d = len(e) # dimension\n",
    "    s = vtx[e] # sommets de l'élément e \n",
    "    K = np.zeros((d,d)) # matrice carée de taille d x d remplie de 0, à remplir ensuite\n",
    "    T = LA.norm(np.cross(np.array(vtx[e[0]]) - np.array(vtx[e[1]]), np.array(vtx[e[1]]) - np.array(vtx[e[2]])))/2\n",
    "    \n",
    "    for i in range(d) : \n",
    "        for j in range(d) : \n",
    "            K[i,j] = np.inner(s[(i+1)%3]-s[(i+2)%3],s[(j+1)%3]-s[(j+2)%3])\n",
    "    K/=(4*T)\n",
    "    return K "
   ]
  },
  {
   "cell_type": "code",
   "execution_count": 339,
   "id": "c6fa83db",
   "metadata": {},
   "outputs": [],
   "source": [
    "def Rig(vtx, elt) :\n",
    "    \n",
    "    vtx = np.array(vtx)\n",
    "    elt = np.array(elt)\n",
    "    \n",
    "    Nv=len(vtx) #Nombre de sommets. \n",
    "    \n",
    "    Nc=len(elt) #Nombre de cellules. \n",
    "    d=len(elt[0]) \n",
    "    \n",
    "    #print (\"Nv={}\".format(Nv))\n",
    "    #print(\"Nc={}\".format(Nc))\n",
    "    #print(\"d={}\".format(d))\n",
    "\n",
    "    I = np.zeros(d*d*Nc) #Pour les lignes.\n",
    "    J = np.zeros(d*d*Nc) #Pour les colonnes. \n",
    "    V = np.zeros(d*d*Nc)\n",
    "    \n",
    "    k=0 \n",
    "    \n",
    "    for q in range(Nc):\n",
    "        Ml = Kloc(vtx, elt[q])\n",
    "        for l in range(d):\n",
    "            for m in range(d):\n",
    "                I[k] = elt[q,l]\n",
    "                J[k] = elt[q,m]\n",
    "                V[k] = Ml[l,m]\n",
    "                k+=1\n",
    "    return csr_matrix( (V, (I,J) ) , shape=(Nv,Nv) )"
   ]
  },
  {
   "cell_type": "code",
   "execution_count": 340,
   "id": "fca3e1d8",
   "metadata": {},
   "outputs": [
    {
     "name": "stdout",
     "output_type": "stream",
     "text": [
      "Test sur le ridigité 0.0\n"
     ]
    }
   ],
   "source": [
    "print(\"Test sur le ridigité\", U@Rig(vtx,elt)@U)"
   ]
  },
  {
   "cell_type": "code",
   "execution_count": 341,
   "id": "6dc9bfc6",
   "metadata": {},
   "outputs": [],
   "source": [
    "def A0(mu,Lx,Ly,Nx,Ny) :\n",
    "    vtx,elt = GenerateRectangleMesh(Lx,Ly,Nx,Ny) \n",
    "    K = Rig(vtx,elt)\n",
    "    M = Mass(vtx,elt)\n",
    "    return K + mu**2*M"
   ]
  },
  {
   "cell_type": "markdown",
   "id": "29ef411e",
   "metadata": {},
   "source": [
    "La matrice $A^0$ obtenue ne convient pas totalement au problème posé. Il faut pour cela utiliser la \"pseudo-élimination\" afin de, encore une fois, traiter différement les termes de bord. Pour ce faire, il faut \"isoler\" les noeuds sur le bord, en mettant à 0 les lignes / colonnes, et à 1 le coefficient diagonal. Il faudra bien sûr adopter un traitement similaire dans le second membre (en mettant à 0 à l'indice correspondant aux  sommets concernés). À la fin, on obtiendra obtenir la condition de bord sans dépendre des autres valeurs dans la forme matricielle, en \"forçant\" en quelque sorte les solutions à s'annuler sur le bord. C'est la raison pour laquelle au lieu de mettre 1 sur le terme diagonal, on aurait en réalité pu mettre n'importe quel $x \\in \\mathbb{R}^*$."
   ]
  },
  {
   "cell_type": "code",
   "execution_count": 343,
   "id": "4b60baef",
   "metadata": {},
   "outputs": [
    {
     "name": "stdout",
     "output_type": "stream",
     "text": [
      "[[1. 0. 0. ... 0. 0. 0.]\n",
      " [0. 1. 0. ... 0. 0. 0.]\n",
      " [0. 0. 1. ... 0. 0. 0.]\n",
      " ...\n",
      " [0. 0. 0. ... 1. 0. 0.]\n",
      " [0. 0. 0. ... 0. 1. 0.]\n",
      " [0. 0. 0. ... 0. 0. 1.]]\n"
     ]
    }
   ],
   "source": [
    "def A(mu,Lx,Ly,Nx,Ny) : \n",
    "    vtx,elt = GenerateRectangleMesh(Lx,Ly,Nx,Ny) \n",
    "    A_0 = A0(mu, Lx,Ly,Nx,Ny)\n",
    "    Nv = A_0.shape[0] #nombre de sommets dans le maillage \n",
    "    d = len(elt[0]) #dimension \n",
    "    Nc = len(vtx) #nombre de cellules dans le maillage \n",
    "    bord = Boundary(elt) #arètes sur le bord \n",
    "    A1 = csr_matrix(A_0)\n",
    "    for i in range(Nv) : #pesudo-élimination \n",
    "        if i in bord : \n",
    "            A1[i,:]=0\n",
    "            A1[:,i]=0\n",
    "            A1[i,i] = 1 \n",
    "    return csr_matrix(A1)\n",
    "\n",
    "print(A(mu,Lx,Ly,Nx,Ny).toarray())"
   ]
  },
  {
   "cell_type": "markdown",
   "id": "e7e0dfdf",
   "metadata": {},
   "source": [
    "**Construction du membre de droite :**"
   ]
  },
  {
   "cell_type": "markdown",
   "id": "fea3b6db",
   "metadata": {},
   "source": [
    "On choisit ici la règle de quadrature suivante : \n",
    "\n",
    "$$\\int_{\\tau} g(x) \\, dx \\approx g\\left(\\frac{s_0^{\\tau}+s_1^{\\tau}+s_2^{\\tau}}{3}\\right)|\\tau|$$\n",
    "\n",
    "\n",
    "On appliquant à $g=f\\varphi_j$, où $\\varphi_j$ fonction de forme. \n",
    "\n",
    "On remarque que $\\varphi_j\\left(\\dfrac{s_0^{\\tau}+s_1^{\\tau}+s_2^{\\tau}}{3}\\right) = \\dfrac{1}{3}$. Montrons le.\n",
    "\n",
    "En effet, $\\varphi_j$ est linéaire.  \n",
    "Donc $\\varphi_j = a^Tx+b$, où $a \\in \\mathbb{C}^2$ et $b \\in \\mathbb{C}$\n",
    "\n",
    "Prenons le simplexe $\\tau$ de sommets $s_j^{\\tau},s_{j+1}^{\\tau},s_{j+2}^{\\tau}$. \n",
    "Par définition, $\\varphi(s_j^{\\tau})=1$, donc $a^Ts_j^{\\tau}=1-b$.\n",
    "De même, comme $\\varphi(s_{j+1}^{\\tau})=0$ et $\\varphi(s_{j+2}^{\\tau})=0$, on a $a^Ts_{j+1}^{\\tau}=-b$ et $a^Ts_{j+2}^{\\tau}=-b$. \n",
    "$\\newline$\n",
    "Au final par linéarité : \n",
    "$$\\phi_j\\left(\\frac{s_j^{\\tau}+s_{j+1}^{\\tau}+s_{j+2}^{\\tau}}{3}\\right) = \\frac{1}{3}(1-b-b-b)+b = \\frac{1}{3}$$"
   ]
  },
  {
   "cell_type": "markdown",
   "id": "bfa4d3b1",
   "metadata": {},
   "source": [
    "Pour construire le second membre, on va suivre la même idée que pour assembler la matrice de masse / rigidité. \n",
    "Créons une fonction locale, puis à l'aide de celle-ci une fonction globale en ajoutant chaque contribution. Ici j'ai fait le choix d'incorporer directement la pseudo-elimination au coeur de l'assemblage (contrairement au membre de gauche où j'ai implémenté $A^0$). "
   ]
  },
  {
   "cell_type": "code",
   "execution_count": 344,
   "id": "22fcb617",
   "metadata": {},
   "outputs": [],
   "source": [
    "def F_loc(vtx,e): \n",
    "    vtx = np.array(vtx)\n",
    "    d = len(e) \n",
    "    s = vtx[e] #Sommets de l'élément e. \n",
    "    T = LA.norm(np.cross(np.array(vtx[e[0]]) - np.array(vtx[e[1]]), np.array(vtx[e[1]]) - np.array(vtx[e[2]])))/2\n",
    "    F = np.zeros(d)\n",
    "    for i in range (d) : \n",
    "            F[i] = f((s[0][0]+s[1][0]+s[2][0])/3,(s[0][1] +s[1][1]+s[2][1])/3)*T/3\n",
    "    return F "
   ]
  },
  {
   "cell_type": "code",
   "execution_count": 345,
   "id": "12f3bea2",
   "metadata": {},
   "outputs": [],
   "source": [
    "def F_global(Lx, Ly, Nx, Ny) : \n",
    "    vtx,elt = GenerateRectangleMesh(Lx,Ly,Nx,Ny)\n",
    "    vtx = np.array(vtx)\n",
    "    elt = np.array(elt)\n",
    "    Nv = len(vtx) #Nombre de sommets. \n",
    "    Nc = len(elt) #Nombre de cellules. \n",
    "    d=len(elt[0]) \n",
    "    F1 = np.zeros(Nv)\n",
    "    bord = Boundary(elt)\n",
    "    F1 = np.array(F1)\n",
    "    for q in range(Nc):\n",
    "        Fl = F_loc(vtx, elt[q])\n",
    "        for l in range(d):        \n",
    "            j = elt[q,l] \n",
    "            F1[j] += Fl[l] \n",
    "    #Prise en compte des conditions de Dirichlet : pseudo-élimination. \n",
    "    for i in range(Nv) : \n",
    "        if i in bord : \n",
    "            F1[i]=0\n",
    "    return F1 "
   ]
  },
  {
   "cell_type": "code",
   "execution_count": 346,
   "id": "ab45f6b2",
   "metadata": {},
   "outputs": [
    {
     "data": {
      "text/plain": [
       "array([ 0.00000000e+00,  0.00000000e+00,  0.00000000e+00,  0.00000000e+00,\n",
       "        0.00000000e+00,  0.00000000e+00,  0.00000000e+00,  0.00000000e+00,\n",
       "        0.00000000e+00,  0.00000000e+00,  0.00000000e+00,  0.00000000e+00,\n",
       "        3.71591494e-02,  5.61192036e-02,  5.36436295e-02,  3.06780122e-02,\n",
       "       -4.00556307e-03, -3.71591494e-02, -5.61192036e-02, -5.36436295e-02,\n",
       "       -3.06780122e-02,  0.00000000e+00,  0.00000000e+00,  6.72735669e-02,\n",
       "        1.05443582e-01,  1.03337733e-01,  6.17603823e-02, -3.40733547e-03,\n",
       "       -6.72735669e-02, -1.05443582e-01, -1.03337733e-01, -6.17603823e-02,\n",
       "        0.00000000e+00,  0.00000000e+00,  9.08027789e-02,  1.44446408e-01,\n",
       "        1.42916419e-01,  8.67972158e-02, -2.47557412e-03, -9.08027789e-02,\n",
       "       -1.44446408e-01, -1.42916419e-01, -8.67972158e-02,  0.00000000e+00,\n",
       "        0.00000000e+00,  1.05443582e-01,  1.69309814e-01,  1.68505451e-01,\n",
       "        1.03337733e-01, -1.30148634e-03, -1.05443582e-01, -1.69309814e-01,\n",
       "       -1.68505451e-01, -1.03337733e-01,  0.00000000e+00,  0.00000000e+00,\n",
       "        1.09762833e-01,  1.77599995e-01,  1.77599995e-01,  1.09762833e-01,\n",
       "        1.64798730e-17, -1.09762833e-01, -1.77599995e-01, -1.77599995e-01,\n",
       "       -1.09762833e-01,  0.00000000e+00,  0.00000000e+00,  1.03337733e-01,\n",
       "        1.68505451e-01,  1.69309814e-01,  1.05443582e-01,  1.30148634e-03,\n",
       "       -1.03337733e-01, -1.68505451e-01, -1.69309814e-01, -1.05443582e-01,\n",
       "        0.00000000e+00,  0.00000000e+00,  8.67972158e-02,  1.42916419e-01,\n",
       "        1.44446408e-01,  9.08027789e-02,  2.47557412e-03, -8.67972158e-02,\n",
       "       -1.42916419e-01, -1.44446408e-01, -9.08027789e-02,  0.00000000e+00,\n",
       "        0.00000000e+00,  6.17603823e-02,  1.03337733e-01,  1.05443582e-01,\n",
       "        6.72735669e-02,  3.40733547e-03, -6.17603823e-02, -1.03337733e-01,\n",
       "       -1.05443582e-01, -6.72735669e-02,  0.00000000e+00,  0.00000000e+00,\n",
       "        3.06780122e-02,  5.36436295e-02,  5.61192036e-02,  3.71591494e-02,\n",
       "        4.00556307e-03, -3.06780122e-02, -5.36436295e-02, -5.61192036e-02,\n",
       "       -3.71591494e-02,  0.00000000e+00,  0.00000000e+00,  0.00000000e+00,\n",
       "        0.00000000e+00,  0.00000000e+00,  0.00000000e+00,  0.00000000e+00,\n",
       "        0.00000000e+00,  0.00000000e+00,  0.00000000e+00,  0.00000000e+00,\n",
       "        0.00000000e+00])"
      ]
     },
     "execution_count": 346,
     "metadata": {},
     "output_type": "execute_result"
    }
   ],
   "source": [
    "F_global(2*np.pi, np.pi, 10, 10)"
   ]
  },
  {
   "cell_type": "markdown",
   "id": "5d3c26ef",
   "metadata": {},
   "source": [
    "**Résolution du système linéaire:**"
   ]
  },
  {
   "cell_type": "code",
   "execution_count": 347,
   "id": "9b2e7d39",
   "metadata": {},
   "outputs": [],
   "source": [
    "def Uh(mu,Lx,Ly,Nx,Ny) :  \n",
    "    return spsolve (A(mu,Lx,Ly,Nx,Ny), F_global(Lx,Ly,Nx,Ny))"
   ]
  },
  {
   "cell_type": "code",
   "execution_count": 348,
   "id": "cfd193a0",
   "metadata": {},
   "outputs": [
    {
     "data": {
      "text/plain": [
       "array([ 0.00000000e+00,  0.00000000e+00,  0.00000000e+00,  0.00000000e+00,\n",
       "        0.00000000e+00,  0.00000000e+00,  0.00000000e+00,  0.00000000e+00,\n",
       "        0.00000000e+00,  0.00000000e+00,  0.00000000e+00,  0.00000000e+00,\n",
       "        3.04911829e-02,  4.92714594e-02,  4.92216366e-02,  3.03691857e-02,\n",
       "       -8.35360412e-05, -3.05044332e-02, -4.92739151e-02, -4.92238675e-02,\n",
       "       -3.03812641e-02,  0.00000000e+00,  0.00000000e+00,  5.79596855e-02,\n",
       "        9.37024246e-02,  9.36406452e-02,  5.78090699e-02, -1.03988495e-04,\n",
       "       -5.79774575e-02, -9.37059202e-02, -9.36442163e-02, -5.78270423e-02,\n",
       "        0.00000000e+00,  0.00000000e+00,  7.97379018e-02,  1.28953481e-01,\n",
       "        1.28901814e-01,  7.96121237e-02, -8.70111892e-05, -7.97530379e-02,\n",
       "       -1.28956556e-01, -1.28905383e-01, -7.96290634e-02,  0.00000000e+00,\n",
       "        0.00000000e+00,  9.37035947e-02,  1.51578511e-01,  1.51549527e-01,\n",
       "        9.36328700e-02, -4.84910166e-05, -9.37114072e-02, -1.51580077e-01,\n",
       "       -1.51551903e-01, -9.36435815e-02,  0.00000000e+00,  0.00000000e+00,\n",
       "        9.84942472e-02,  1.59364961e-01,  1.59364500e-01,  9.84926083e-02,\n",
       "        2.77555756e-17, -9.84926083e-02, -1.59364500e-01, -1.59364961e-01,\n",
       "       -9.84942472e-02,  0.00000000e+00,  0.00000000e+00,  9.36435815e-02,\n",
       "        1.51551903e-01,  1.51580077e-01,  9.37114072e-02,  4.84910166e-05,\n",
       "       -9.36328700e-02, -1.51549527e-01, -1.51578511e-01, -9.37035947e-02,\n",
       "        0.00000000e+00,  0.00000000e+00,  7.96290634e-02,  1.28905383e-01,\n",
       "        1.28956556e-01,  7.97530379e-02,  8.70111892e-05, -7.96121237e-02,\n",
       "       -1.28901814e-01, -1.28953481e-01, -7.97379018e-02,  0.00000000e+00,\n",
       "        0.00000000e+00,  5.78270423e-02,  9.36442163e-02,  9.37059202e-02,\n",
       "        5.79774575e-02,  1.03988495e-04, -5.78090699e-02, -9.36406452e-02,\n",
       "       -9.37024246e-02, -5.79596855e-02,  0.00000000e+00,  0.00000000e+00,\n",
       "        3.03812641e-02,  4.92238675e-02,  4.92739151e-02,  3.05044332e-02,\n",
       "        8.35360412e-05, -3.03691857e-02, -4.92216366e-02, -4.92714594e-02,\n",
       "       -3.04911829e-02,  0.00000000e+00,  0.00000000e+00,  0.00000000e+00,\n",
       "        0.00000000e+00,  0.00000000e+00,  0.00000000e+00,  0.00000000e+00,\n",
       "        0.00000000e+00,  0.00000000e+00,  0.00000000e+00,  0.00000000e+00,\n",
       "        0.00000000e+00])"
      ]
     },
     "execution_count": 348,
     "metadata": {},
     "output_type": "execute_result"
    }
   ],
   "source": [
    "Uh(mu,Lx,Ly,Nx,Ny)"
   ]
  },
  {
   "cell_type": "markdown",
   "id": "c58c117a",
   "metadata": {},
   "source": [
    "> **Question 3.**"
   ]
  },
  {
   "cell_type": "code",
   "execution_count": 349,
   "id": "e016e549",
   "metadata": {},
   "outputs": [],
   "source": [
    "def PlotApproximation(mu,Lx,Ly,Nx,Ny) : \n",
    "    U = Uh(mu,Lx,Ly,Nx,Ny) #Solution approchée. \n",
    "    vtx, elt = GenerateRectangleMesh(Lx,Ly,Nx,Ny)\n",
    "    vtx = np.array(vtx) #Conversion en tableau numpy (bi-dimensionnel). \n",
    "    X = vtx[:,0] #Abscisses.\n",
    "    Y = vtx[:,1] #Ordonnées.\n",
    "    triangulation = mtri.Triangulation(X,Y,elt) \n",
    "    plt.tripcolor(triangulation, U,label=\"Solution approchée\")\n",
    "    plt.title(\"Solution approchée, Nx={} et Ny={}\".format(Nx,Ny))\n",
    "    plt.xlabel(\"x\")\n",
    "    plt.ylabel(\"y\")\n",
    "    plt.legend()\n",
    "    plt.colorbar()\n",
    "    \n",
    "    \n",
    "\n",
    "def PlotSolutionExacte(mu,Lx,Ly,Nx,Ny):\n",
    "    vtx, elt = GenerateRectangleMesh(Lx,Ly,Nx,Ny)\n",
    "    vtx = np.array(vtx)\n",
    "    X = vtx[:,0] #Abscisses.\n",
    "    Y = vtx[:,1] #Ordonnées.\n",
    "    triangulation = mtri.Triangulation(X, Y, elt)\n",
    "    Uex = np.array([u(x,y) for (x,y) in vtx]) #Solution exacte. \n",
    "    plt.tripcolor(triangulation, Uex,label=\"Solution Exacte\")\n",
    "    plt.title(\"Solution exacte,Nx={} et Ny={}\".format(Nx,Ny))\n",
    "    plt.xlabel(\"x\")\n",
    "    plt.ylabel(\"y\")\n",
    "    plt.legend()\n",
    "    plt.colorbar()\n",
    "\n",
    " \n",
    "    \n",
    "def PlotErreur(mu,Lx,Ly,Nx,Ny):\n",
    "    vtx, elt = GenerateRectangleMesh(Lx,Ly,Nx,Ny)\n",
    "    vtx = np.array(vtx)\n",
    "    X = vtx[:,0]\n",
    "    Y = vtx[:,1]\n",
    "    U = Uh(mu,Lx,Ly,Nx,Ny) #Solution approchée.\n",
    "    triangulation = mtri.Triangulation(X, Y, elt)\n",
    "    Uex = np.array([u(x,y) for (x,y) in vtx]) #Solution exacte. \n",
    "    plt.tripcolor(triangulation, abs(Uex-U), shading='flat',label=\"Erreur\")\n",
    "    plt.title(\"Erreur en valeur absolue, Nx={} et Ny={}\".format(Nx,Ny))\n",
    "    plt.xlabel(\"x\")\n",
    "    plt.ylabel(\"y\")\n",
    "    plt.legend()\n",
    "    plt.colorbar()\n",
    "    \n",
    " "
   ]
  },
  {
   "cell_type": "code",
   "execution_count": 350,
   "id": "4a7579b7",
   "metadata": {},
   "outputs": [
    {
     "data": {
      "image/png": "[encoded data removed]",
      "text/plain": [
       "<Figure size 640x480 with 2 Axes>"
      ]
     },
     "metadata": {},
     "output_type": "display_data"
    }
   ],
   "source": [
    "PlotApproximation(mu,Lx,Ly,Nx,Ny)"
   ]
  },
  {
   "cell_type": "code",
   "execution_count": 351,
   "id": "58b21e45",
   "metadata": {},
   "outputs": [
    {
     "data": {
      "image/png": "[encoded data removed]",
      "text/plain": [
       "<Figure size 640x480 with 2 Axes>"
      ]
     },
     "metadata": {},
     "output_type": "display_data"
    }
   ],
   "source": [
    "PlotSolutionExacte(mu,Lx,Ly,Nx,Ny)"
   ]
  },
  {
   "cell_type": "code",
   "execution_count": 352,
   "id": "f3f9b331",
   "metadata": {},
   "outputs": [
    {
     "data": {
      "image/png": "[encoded data removed]",
      "text/plain": [
       "<Figure size 640x480 with 2 Axes>"
      ]
     },
     "metadata": {},
     "output_type": "display_data"
    }
   ],
   "source": [
    "PlotErreur(mu,Lx,Ly,Nx,Ny)"
   ]
  },
  {
   "cell_type": "markdown",
   "id": "74c42935",
   "metadata": {},
   "source": [
    "> **Question 4.** $\\| f \\|_{L^2(\\Omega)}^2 = \\displaystyle \\int_0^{2\\pi}\\displaystyle \\int_0^{\\pi} \\sin^2(x)\\sin^2(y) \\, dx\\, dy = \\dfrac{\\pi^2}{2}$"
   ]
  },
  {
   "cell_type": "code",
   "execution_count": 353,
   "id": "e3dd81ec",
   "metadata": {},
   "outputs": [
    {
     "data": {
      "image/png": "[encoded data removed]",
      "text/plain": [
       "<Figure size 640x480 with 1 Axes>"
      ]
     },
     "metadata": {},
     "output_type": "display_data"
    },
    {
     "name": "stdout",
     "output_type": "stream",
     "text": [
      "[0.00042696 0.02155288]\n"
     ]
    }
   ],
   "source": [
    "mu = 2 \n",
    "\n",
    "def PlotErreurL2(mu,Lx,Ly):\n",
    "    N_values = [[2,2],[4,4],[6,6], [8,8],[10,10],[15,15],[20,20], [40,40]] #Par exemple. \n",
    "    H = [] #Pour les abcisses : nombre de subdivisions. \n",
    "    E = [] #Pour les ordonnées : erreur observée. \n",
    "    erreur = 0\n",
    "    \n",
    "    for Nx, Ny in N_values:\n",
    "        H.append(Nx)\n",
    "        vtx,elt = GenerateRectangleMesh(Lx,Ly,Nx,Ny)\n",
    "        M = Mass(vtx, elt)\n",
    "        Uex = np.array([ u(x,y) for (x,y) in vtx ]) #Solution exacte.\n",
    "        U = Uh(mu,Lx,Ly,Nx,Ny) #Solution approchée.\n",
    "        erreur = 2*( (U-Uex).dot(M.dot(U-Uex)) )/ ( np.pi**2 )\n",
    "        E.append(erreur**0.5) #Car on avait le carré de la norme. \n",
    "        \n",
    "    plt.plot(H,E)\n",
    "    plt.title(\"Erreur pour la norme L2\")\n",
    "    plt.xlabel('Nx=Ny')\n",
    "    plt.ylabel('Erreur relative')\n",
    "    plt.show()\n",
    "    return np.polyfit(H, E, 1) #Le 1 dans l'argument signifie régréssion d'ordre 1 (linéaire)\n",
    "\n",
    "\"\"\" \n",
    "Si on voulait une echelle log-log : \n",
    "- On remplace plt.plot(H,E) par plt.loglog(H,E)\n",
    "- On remplace return np.polyfit(H, E, 1) par #return np.polyfit(np.log(H), np.log(E), 1)\n",
    "\"\"\"\n",
    "\n",
    "Lx = 2*np.pi\n",
    "Ly = np.pi\n",
    "\n",
    "print(PlotErreurL2(mu,Lx,Ly))"
   ]
  }
 ],
 "metadata": {
  "kernelspec": {
   "display_name": "Python 3 (ipykernel)",
   "language": "python",
   "name": "python3"
  },
  "language_info": {
   "codemirror_mode": {
    "name": "ipython",
    "version": 3
   },
   "file_extension": ".py",
   "mimetype": "text/x-python",
   "name": "python",
   "nbconvert_exporter": "python",
   "pygments_lexer": "ipython3",
   "version": "3.10.9"
  }
 },
 "nbformat": 4,
 "nbformat_minor": 5
}
